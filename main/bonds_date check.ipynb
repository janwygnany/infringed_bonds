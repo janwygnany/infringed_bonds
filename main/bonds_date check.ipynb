{
 "cells": [
  {
   "cell_type": "code",
   "execution_count": null,
   "metadata": {
    "collapsed": true
   },
   "outputs": [],
   "source": [
    "import datetime\n",
    "import pandas as pd"
   ]
  },
  {
   "cell_type": "code",
   "execution_count": null,
   "outputs": [],
   "source": [
    "data = pd.read_csv(\"data/bonds_master_stata.csv\")\n",
    "dates = data['date']"
   ],
   "metadata": {
    "collapsed": false
   }
  },
  {
   "cell_type": "code",
   "execution_count": null,
   "outputs": [],
   "source": [
    "def get_day_of_week(date_string):\n",
    "    try:\n",
    "        date = datetime.datetime.strptime(date_string, \"%m/%d/%Y\")\n",
    "        day_of_week = date.strftime(\"%A\")\n",
    "        return day_of_week\n",
    "    except ValueError:\n",
    "        return \"Invalid date format. Please provide a date in the format MM/DD/YYYY.\"\n"
   ],
   "metadata": {
    "collapsed": false
   }
  },
  {
   "cell_type": "markdown",
   "source": [],
   "metadata": {
    "collapsed": false
   }
  },
  {
   "cell_type": "code",
   "execution_count": null,
   "outputs": [],
   "source": [
    "data['day_of_week'] = data['date'].apply(get_day_of_week)\n",
    "data.to_csv(\"weekday.csv\")"
   ],
   "metadata": {
    "collapsed": false
   }
  },
  {
   "cell_type": "code",
   "execution_count": null,
   "outputs": [],
   "source": [
    "is_Friday = data[\"day_of_week\"] == \"Friday\"\n",
    "Friday = data[is_Friday]\n",
    "Friday.to_csv(\"data/Friday.csv\")"
   ],
   "metadata": {
    "collapsed": false
   }
  },
  {
   "cell_type": "code",
   "execution_count": null,
   "outputs": [],
   "source": [
    "pivot_weekday_ruleoflaw = data.groupby(['day_of_week']).agg({'ruleoflawdummy':'sum'})\n",
    "pivot_weekday_ruleoflaw"
   ],
   "metadata": {
    "collapsed": false
   }
  },
  {
   "cell_type": "markdown",
   "source": [
    "How to aggregate for averages?"
   ],
   "metadata": {
    "collapsed": false
   }
  },
  {
   "cell_type": "code",
   "execution_count": null,
   "outputs": [],
   "source": [
    "### pivot_weekday_change = data.groupby(['day_of_week']).agg({'change_2Y':'average'})\n",
    "### pivot_weekday_change"
   ],
   "metadata": {
    "collapsed": false
   }
  }
 ],
 "metadata": {
  "kernelspec": {
   "display_name": "Python 3",
   "language": "python",
   "name": "python3"
  },
  "language_info": {
   "codemirror_mode": {
    "name": "ipython",
    "version": 2
   },
   "file_extension": ".py",
   "mimetype": "text/x-python",
   "name": "python",
   "nbconvert_exporter": "python",
   "pygments_lexer": "ipython2",
   "version": "2.7.6"
  }
 },
 "nbformat": 4,
 "nbformat_minor": 0
}
