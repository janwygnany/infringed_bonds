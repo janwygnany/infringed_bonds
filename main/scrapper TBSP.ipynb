{
 "cells": [
  {
   "cell_type": "code",
   "execution_count": 1,
   "metadata": {
    "collapsed": true
   },
   "outputs": [],
   "source": [
    "import numpy as np\n",
    "from datetime import datetime, timedelta\n",
    "import requests\n",
    "from bs4 import BeautifulSoup\n",
    "import pandas as pd"
   ]
  },
  {
   "cell_type": "code",
   "execution_count": 2,
   "outputs": [],
   "source": [
    "def generate_date_string(start_date, end_date):\n",
    "    date_format = \"%Y/%m/%d\"\n",
    "    dates_strings = []\n",
    "\n",
    "    start = datetime.strptime(start_date, date_format)\n",
    "    end = datetime.strptime(end_date, date_format)\n",
    "\n",
    "    current_date = start\n",
    "    while current_date <= end:\n",
    "        dates_strings.append(current_date.strftime(date_format))\n",
    "        current_date += timedelta(days=1)\n",
    "\n",
    "    return dates_strings"
   ],
   "metadata": {
    "collapsed": false
   }
  },
  {
   "cell_type": "code",
   "execution_count": 3,
   "outputs": [],
   "source": [
    "def generate_date_array(start_date, end_date):\n",
    "    date_format = \"%Y/%m/%d\"\n",
    "    start = datetime.strptime(start_date, date_format)\n",
    "    end = datetime.strptime(end_date, date_format)\n",
    "\n",
    "    # Create an empty list to store the generated dates\n",
    "    date_list = []\n",
    "\n",
    "    # Generate the dates between the start and end dates\n",
    "    current_date = start\n",
    "    while current_date <= end:\n",
    "        formatted_date = current_date.strftime(date_format).replace('/', '')\n",
    "        date_list.append(formatted_date)\n",
    "        current_date += timedelta(days=1)\n",
    "\n",
    "    # Convert the list to a NumPy array\n",
    "    date_array = np.array(date_list)\n",
    "\n",
    "    return date_array"
   ],
   "metadata": {
    "collapsed": false
   }
  },
  {
   "cell_type": "code",
   "execution_count": 4,
   "outputs": [],
   "source": [
    "def get_day_of_week(date_string):\n",
    "    try:\n",
    "        date = datetime.strptime(date_string, \"%Y/%m/%d\")\n",
    "        day_of_week = date.strftime(\"%A\")\n",
    "        return day_of_week\n",
    "    except ValueError:\n",
    "        return \"Invalid date format. Please provide a date in the format YYYY/MM/DD.\""
   ],
   "metadata": {
    "collapsed": false
   }
  },
  {
   "cell_type": "code",
   "execution_count": 106,
   "outputs": [],
   "source": [
    "years = np.arange(2014,2024,1)\n",
    "start_dates = []\n",
    "end_dates = []\n",
    "for year in years:\n",
    "    start_dates.append(f\"{year}/01/01\")\n",
    "    end_dates.append(f\"{year}/12/31\")"
   ],
   "metadata": {
    "collapsed": false
   }
  },
  {
   "cell_type": "code",
   "execution_count": 107,
   "outputs": [],
   "source": [
    "d = {year: pd.DataFrame() for year in years}\n",
    "for year in years:\n",
    "    start_date = start_dates[year-2014]\n",
    "    end_date = end_dates[year-2014]\n",
    "    dates_strings = generate_date_string(start_date, end_date)\n",
    "    dates_array = generate_date_array(start_date, end_date)\n",
    "    dates_df = pd.DataFrame(dates_strings)\n",
    "    dates_df.columns = ['dates']\n",
    "    dates_df['weeks'] = dates_df['dates'].apply(get_day_of_week)\n",
    "    dates_list_df = pd.DataFrame(dates_array)\n",
    "    d[year] = pd.concat([dates_list_df,dates_df],axis=1)"
   ],
   "metadata": {
    "collapsed": false
   }
  },
  {
   "cell_type": "code",
   "execution_count": 108,
   "outputs": [],
   "source": [
    "d_weekday = {year: pd.DataFrame() for year in years}\n",
    "for year in years:\n",
    "    not_sun = d[year][\"weeks\"] != \"Sunday\"\n",
    "    not_sun_weekday = d[year][not_sun]\n",
    "    not_sat = not_sun_weekday[\"weeks\"] != \"Saturday\"\n",
    "    d_weekday[year] = not_sun_weekday[not_sat]\n",
    "    d_weekday[year].columns = ['dates', 'weeks', 'dates1']"
   ],
   "metadata": {
    "collapsed": false
   }
  },
  {
   "cell_type": "code",
   "execution_count": 109,
   "outputs": [],
   "source": [
    "year_of = int(input(\"Enter chosen year\"))"
   ],
   "metadata": {
    "collapsed": false
   }
  },
  {
   "cell_type": "code",
   "execution_count": 110,
   "outputs": [],
   "source": [
    "dates = d_weekday[year_of]['dates'].values\n",
    "pages = []\n",
    "for date in dates:\n",
    "    expression = f\"https://www.bondspot.pl/tbsp_index_archiwum?date={date}\"\n",
    "    pages.append(expression)"
   ],
   "metadata": {
    "collapsed": false
   }
  },
  {
   "cell_type": "code",
   "execution_count": 111,
   "outputs": [],
   "source": [
    "datyes = []\n",
    "opening_values = []\n",
    "closing_values = []\n",
    "cells = []\n",
    "timeout_seconds = 300"
   ],
   "metadata": {
    "collapsed": false
   }
  },
  {
   "cell_type": "code",
   "execution_count": 112,
   "outputs": [],
   "source": [
    "for page in pages:\n",
    "    response = requests.get(page, timeout = timeout_seconds)\n",
    "    soup = BeautifulSoup(response.content, \"html.parser\")\n",
    "    rows = soup.find_all('tr')\n",
    "    for row in rows:\n",
    "        try:\n",
    "            cells = row.find_all('td')\n",
    "        except AttributeError:\n",
    "            continue\n",
    "    datyes.append(cells[0].text.strip())\n",
    "    opening_values.append(cells[1].text.strip())\n",
    "    closing_values.append(cells[2].text.strip())\n"
   ],
   "metadata": {
    "collapsed": false
   }
  },
  {
   "cell_type": "code",
   "execution_count": 113,
   "outputs": [],
   "source": [
    "d_final = {year: pd.DataFrame() for year in years}\n",
    "df = pd.DataFrame(datyes)\n",
    "df_2 = pd.DataFrame(opening_values)\n",
    "df_3 = pd.DataFrame(closing_values)\n",
    "d_final[year_of] = pd.concat([df, df_2, df_3], axis=1)\n",
    "d_final[year_of].columns = ['dates', 'opening_values', 'closing_values']\n",
    "d_final[year_of] = d_final[year_of][d_final[year_of].closing_values != '-']\n",
    "d_final[year_of]['closing_values'] = pd.to_numeric(d_final[year_of]['closing_values'])\n",
    "d_final[year_of]['opening_values'] = pd.to_numeric(d_final[year_of]['opening_values'])\n",
    "d_final[year_of] = d_final[year_of][d_final[year_of].opening_values > 28]"
   ],
   "metadata": {
    "collapsed": false
   }
  },
  {
   "cell_type": "code",
   "execution_count": 114,
   "outputs": [],
   "source": [
    "d_final[year_of].to_csv(f\"data/{year_of}.csv\")"
   ],
   "metadata": {
    "collapsed": false
   }
  },
  {
   "cell_type": "code",
   "execution_count": 115,
   "outputs": [
    {
     "data": {
      "text/plain": "          dates  opening_values  closing_values\n0    2023-01-02         1747.10         1752.60\n1    2023-01-03         1754.20         1763.15\n2    2023-01-04         1775.62         1776.00\n3    2023-01-05         1777.10         1790.73\n5    2023-01-09         1812.90         1812.27\n..          ...             ...             ...\n120  2023-06-19         1850.53         1850.58\n121  2023-06-20         1852.65         1853.54\n122  2023-06-21         1853.05         1853.69\n123  2023-06-22         1856.29         1857.36\n124  2023-06-23         1860.40         1861.62\n\n[119 rows x 3 columns]",
      "text/html": "<div>\n<style scoped>\n    .dataframe tbody tr th:only-of-type {\n        vertical-align: middle;\n    }\n\n    .dataframe tbody tr th {\n        vertical-align: top;\n    }\n\n    .dataframe thead th {\n        text-align: right;\n    }\n</style>\n<table border=\"1\" class=\"dataframe\">\n  <thead>\n    <tr style=\"text-align: right;\">\n      <th></th>\n      <th>dates</th>\n      <th>opening_values</th>\n      <th>closing_values</th>\n    </tr>\n  </thead>\n  <tbody>\n    <tr>\n      <th>0</th>\n      <td>2023-01-02</td>\n      <td>1747.10</td>\n      <td>1752.60</td>\n    </tr>\n    <tr>\n      <th>1</th>\n      <td>2023-01-03</td>\n      <td>1754.20</td>\n      <td>1763.15</td>\n    </tr>\n    <tr>\n      <th>2</th>\n      <td>2023-01-04</td>\n      <td>1775.62</td>\n      <td>1776.00</td>\n    </tr>\n    <tr>\n      <th>3</th>\n      <td>2023-01-05</td>\n      <td>1777.10</td>\n      <td>1790.73</td>\n    </tr>\n    <tr>\n      <th>5</th>\n      <td>2023-01-09</td>\n      <td>1812.90</td>\n      <td>1812.27</td>\n    </tr>\n    <tr>\n      <th>...</th>\n      <td>...</td>\n      <td>...</td>\n      <td>...</td>\n    </tr>\n    <tr>\n      <th>120</th>\n      <td>2023-06-19</td>\n      <td>1850.53</td>\n      <td>1850.58</td>\n    </tr>\n    <tr>\n      <th>121</th>\n      <td>2023-06-20</td>\n      <td>1852.65</td>\n      <td>1853.54</td>\n    </tr>\n    <tr>\n      <th>122</th>\n      <td>2023-06-21</td>\n      <td>1853.05</td>\n      <td>1853.69</td>\n    </tr>\n    <tr>\n      <th>123</th>\n      <td>2023-06-22</td>\n      <td>1856.29</td>\n      <td>1857.36</td>\n    </tr>\n    <tr>\n      <th>124</th>\n      <td>2023-06-23</td>\n      <td>1860.40</td>\n      <td>1861.62</td>\n    </tr>\n  </tbody>\n</table>\n<p>119 rows × 3 columns</p>\n</div>"
     },
     "execution_count": 115,
     "metadata": {},
     "output_type": "execute_result"
    }
   ],
   "source": [
    "d_final[year_of]"
   ],
   "metadata": {
    "collapsed": false
   }
  },
  {
   "cell_type": "code",
   "execution_count": null,
   "outputs": [],
   "source": [],
   "metadata": {
    "collapsed": false
   }
  }
 ],
 "metadata": {
  "kernelspec": {
   "display_name": "Python 3",
   "language": "python",
   "name": "python3"
  },
  "language_info": {
   "codemirror_mode": {
    "name": "ipython",
    "version": 2
   },
   "file_extension": ".py",
   "mimetype": "text/x-python",
   "name": "python",
   "nbconvert_exporter": "python",
   "pygments_lexer": "ipython2",
   "version": "2.7.6"
  }
 },
 "nbformat": 4,
 "nbformat_minor": 0
}
