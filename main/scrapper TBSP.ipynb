{
 "cells": [
  {
   "cell_type": "code",
   "execution_count": 1,
   "metadata": {
    "collapsed": true
   },
   "outputs": [],
   "source": [
    "import numpy as np\n",
    "from datetime import datetime, timedelta\n",
    "import requests\n",
    "from bs4 import BeautifulSoup\n",
    "import pandas as pd"
   ]
  },
  {
   "cell_type": "code",
   "execution_count": 2,
   "outputs": [],
   "source": [
    "def generate_date_string(start_date, end_date):\n",
    "    date_format = \"%Y/%m/%d\"\n",
    "    dates_strings = []\n",
    "\n",
    "    start = datetime.strptime(start_date, date_format)\n",
    "    end = datetime.strptime(end_date, date_format)\n",
    "\n",
    "    current_date = start\n",
    "    while current_date <= end:\n",
    "        dates_strings.append(current_date.strftime(date_format))\n",
    "        current_date += timedelta(days=1)\n",
    "\n",
    "    return dates_strings"
   ],
   "metadata": {
    "collapsed": false
   }
  },
  {
   "cell_type": "code",
   "execution_count": 3,
   "outputs": [],
   "source": [
    "def generate_date_array(start_date, end_date):\n",
    "    date_format = \"%Y/%m/%d\"\n",
    "    start = datetime.strptime(start_date, date_format)\n",
    "    end = datetime.strptime(end_date, date_format)\n",
    "\n",
    "    # Create an empty list to store the generated dates\n",
    "    date_list = []\n",
    "\n",
    "    # Generate the dates between the start and end dates\n",
    "    current_date = start\n",
    "    while current_date <= end:\n",
    "        formatted_date = current_date.strftime(date_format).replace('/', '')\n",
    "        date_list.append(formatted_date)\n",
    "        current_date += timedelta(days=1)\n",
    "\n",
    "    # Convert the list to a NumPy array\n",
    "    date_array = np.array(date_list)\n",
    "\n",
    "    return date_array"
   ],
   "metadata": {
    "collapsed": false
   }
  },
  {
   "cell_type": "code",
   "execution_count": 4,
   "outputs": [],
   "source": [
    "def get_day_of_week(date_string):\n",
    "    try:\n",
    "        date = datetime.strptime(date_string, \"%Y/%m/%d\")\n",
    "        day_of_week = date.strftime(\"%A\")\n",
    "        return day_of_week\n",
    "    except ValueError:\n",
    "        return \"Invalid date format. Please provide a date in the format YYYY/MM/DD.\""
   ],
   "metadata": {
    "collapsed": false
   }
  },
  {
   "cell_type": "code",
   "execution_count": 5,
   "outputs": [],
   "source": [
    "years = np.arange(2014,2023,1)\n",
    "start_dates = []\n",
    "end_dates = []\n",
    "for year in years:\n",
    "    start_dates.append(f\"{year}/01/01\")\n",
    "    end_dates.append(f\"{year}/12/31\")"
   ],
   "metadata": {
    "collapsed": false
   }
  },
  {
   "cell_type": "code",
   "execution_count": 6,
   "outputs": [],
   "source": [
    "d = {year: pd.DataFrame() for year in years}\n",
    "for year in years:\n",
    "    start_date = start_dates[year-2014]\n",
    "    end_date = end_dates[year-2014]\n",
    "    dates_strings = generate_date_string(start_date, end_date)\n",
    "    dates_array = generate_date_array(start_date, end_date)\n",
    "    dates_df = pd.DataFrame(dates_strings)\n",
    "    dates_df.columns = ['dates']\n",
    "    dates_df['weeks'] = dates_df['dates'].apply(get_day_of_week)\n",
    "    dates_list_df = pd.DataFrame(dates_array)\n",
    "    d[year] = pd.concat([dates_list_df,dates_df],axis=1)"
   ],
   "metadata": {
    "collapsed": false
   }
  },
  {
   "cell_type": "code",
   "execution_count": 21,
   "outputs": [],
   "source": [
    "d_weekday = {year: pd.DataFrame() for year in years}\n",
    "for year in years:\n",
    "    not_sun = d[year][\"weeks\"] != \"Sunday\"\n",
    "    not_sun_weekday = d[year][not_sun]\n",
    "    not_sat = not_sun_weekday[\"weeks\"] != \"Saturday\"\n",
    "    d_weekday[year] = not_sun_weekday[not_sat]\n",
    "    d_weekday[year].columns = ['dates', 'weeks', 'dates1']"
   ],
   "metadata": {
    "collapsed": false
   }
  },
  {
   "cell_type": "code",
   "execution_count": 22,
   "outputs": [],
   "source": [
    "year_of = int(input(\"Enter chosen year\"))"
   ],
   "metadata": {
    "collapsed": false
   }
  },
  {
   "cell_type": "code",
   "execution_count": 23,
   "outputs": [],
   "source": [
    "dates = d_weekday[year_of]['dates'].values\n",
    "pages = []\n",
    "for date in dates:\n",
    "    expression = f\"https://www.bondspot.pl/tbsp_index_archiwum?date={date}\"\n",
    "    pages.append(expression)"
   ],
   "metadata": {
    "collapsed": false
   }
  },
  {
   "cell_type": "code",
   "execution_count": 28,
   "outputs": [],
   "source": [
    "datyes = []\n",
    "opening_values = []\n",
    "closing_values = []\n",
    "cells = []\n",
    "timeout_seconds = 300"
   ],
   "metadata": {
    "collapsed": false
   }
  },
  {
   "cell_type": "code",
   "execution_count": 29,
   "outputs": [],
   "source": [
    "for page in pages:\n",
    "    response = requests.get(page, timeout = timeout_seconds)\n",
    "    soup = BeautifulSoup(response.content, \"html.parser\")\n",
    "    rows = soup.find_all('tr')\n",
    "    for row in rows:\n",
    "        try:\n",
    "            cells = row.find_all('td')\n",
    "        except AttributeError:\n",
    "            continue\n",
    "    datyes.append(cells[0].text.strip())\n",
    "    opening_values.append(cells[1].text.strip())\n",
    "    closing_values.append(cells[2].text.strip())"
   ],
   "metadata": {
    "collapsed": false
   }
  },
  {
   "cell_type": "code",
   "execution_count": 43,
   "outputs": [],
   "source": [
    "d_final = {year: pd.DataFrame() for year in years}\n",
    "df = pd.DataFrame(datyes)\n",
    "df_2 = pd.DataFrame(map(float, opening_values))\n",
    "df_3 = pd.DataFrame(map(float, closing_values))\n",
    "d_final[year_of] = pd.concat([df, df_2, df_3], axis=1)\n",
    "d_final[year_of].columns = ['dates', 'opening_values', 'closing_values']\n",
    "d_final[year_of] = d_final[year_of][d_final[year_of].closing_values > 28]"
   ],
   "metadata": {
    "collapsed": false
   }
  },
  {
   "cell_type": "code",
   "execution_count": 44,
   "outputs": [],
   "source": [
    "d_final[year_of].to_csv(f\"data/{year_of}.csv\")"
   ],
   "metadata": {
    "collapsed": false
   }
  }
 ],
 "metadata": {
  "kernelspec": {
   "display_name": "Python 3",
   "language": "python",
   "name": "python3"
  },
  "language_info": {
   "codemirror_mode": {
    "name": "ipython",
    "version": 2
   },
   "file_extension": ".py",
   "mimetype": "text/x-python",
   "name": "python",
   "nbconvert_exporter": "python",
   "pygments_lexer": "ipython2",
   "version": "2.7.6"
  }
 },
 "nbformat": 4,
 "nbformat_minor": 0
}
