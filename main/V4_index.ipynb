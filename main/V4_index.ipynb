{
 "cells": [
  {
   "cell_type": "code",
   "execution_count": 2,
   "metadata": {
    "collapsed": true
   },
   "outputs": [],
   "source": [
    "import pandas as pd\n",
    "from datetime import datetime"
   ]
  },
  {
   "cell_type": "code",
   "execution_count": 3,
   "outputs": [],
   "source": [
    "index= pd.read_csv('data/V4_index_master.csv')\n",
    "del index['_merge']"
   ],
   "metadata": {
    "collapsed": false
   }
  },
  {
   "cell_type": "code",
   "execution_count": 4,
   "outputs": [],
   "source": [
    "my_times = index['date'].values\n",
    "my_time_cor = []\n",
    "for my_time in my_times:\n",
    "    dt_obj = datetime.strptime(my_time,'%m/%d/%Y')\n",
    "    my_time_cor.append(dt_obj.strftime('%Y-%m-%d'))\n",
    "df = pd.DataFrame({'col':my_time_cor})\n",
    "index['date'] = df['col']"
   ],
   "metadata": {
    "collapsed": false
   }
  },
  {
   "cell_type": "code",
   "execution_count": 5,
   "outputs": [],
   "source": [
    "def get_year(date_string):\n",
    "    try:\n",
    "        date = datetime.strptime(date_string, \"%Y-%m-%d\")\n",
    "        year = date.year\n",
    "        return year\n",
    "    except ValueError:\n",
    "        return \"Invalid date format. Please provide a date in the format YYYY-mm-dd.\""
   ],
   "metadata": {
    "collapsed": false
   }
  },
  {
   "cell_type": "code",
   "execution_count": 6,
   "outputs": [],
   "source": [
    "index['year'] = index['date'].apply(get_year)"
   ],
   "metadata": {
    "collapsed": false
   }
  },
  {
   "cell_type": "code",
   "execution_count": 7,
   "outputs": [],
   "source": [
    "index['date'] = pd.to_datetime(index['date'])\n",
    "index = index.sort_values(by='date')"
   ],
   "metadata": {
    "collapsed": false
   }
  },
  {
   "cell_type": "code",
   "execution_count": 8,
   "outputs": [],
   "source": [
    "gdp = pd.read_csv('data/GDP_V4.csv')\n",
    "gdp['year'] = gdp['date'].apply(get_year)"
   ],
   "metadata": {
    "collapsed": false
   }
  },
  {
   "cell_type": "code",
   "execution_count": 9,
   "outputs": [],
   "source": [
    "index_merged = pd.merge(index, gdp, on='year')\n",
    "del index_merged['date_y']\n",
    "index_merged = index_merged.rename(columns={'date_x':'date'})"
   ],
   "metadata": {
    "collapsed": false
   }
  },
  {
   "cell_type": "code",
   "execution_count": 10,
   "outputs": [],
   "source": [
    "index_merged['V4_close'] = index_merged['close_HU']*index_merged['weg_HU']+index_merged['close_SK']*index_merged['weg_SK']+index_merged['close_CZ']*index_merged['weg_CZ']"
   ],
   "metadata": {
    "collapsed": false
   }
  },
  {
   "cell_type": "code",
   "execution_count": 11,
   "outputs": [],
   "source": [
    "index_merged['V4_open'] = index_merged['open_HU']*index_merged['weg_HU']+index_merged['open_SK']*index_merged['weg_SK']+index_merged['open_CZ']*index_merged['weg_CZ']"
   ],
   "metadata": {
    "collapsed": false
   }
  },
  {
   "cell_type": "code",
   "execution_count": 12,
   "outputs": [
    {
     "data": {
      "text/plain": "           date  close_HU  open_HU  close_SK  open_SK  close_CZ  open_CZ  \\\n0    2014-01-02      4.12     4.12     0.907    0.907     0.191    0.191   \n1    2014-01-03      4.11     4.11     0.905    0.905     0.192    0.192   \n2    2014-01-07      4.04     4.04     0.869    0.869     0.481    0.481   \n3    2014-01-08      4.01     4.01     0.771    0.771     0.148    0.148   \n4    2014-01-09      3.94     3.94     0.755    0.755     0.628    0.628   \n...         ...       ...      ...       ...      ...       ...      ...   \n2009 2022-12-21     10.04    10.04     2.937    3.035     5.619    5.611   \n2010 2022-12-23     10.08    10.08     3.305    2.982     5.618    5.603   \n2011 2022-12-27     10.14    10.14     3.127    3.162     5.596    5.611   \n2012 2022-12-28     10.10    10.10     3.131    3.341     5.588    5.595   \n2013 2022-12-29     10.95    10.95     3.112    3.306     5.740    5.580   \n\n      year     GDP_HU     GDP_SK     GDP_CZ    weg_CZ    weg_SK    weg_HU  \\\n0     2014  14294.259  18719.988  19890.920  0.375973  0.353840  0.270186   \n1     2014  14294.259  18719.988  19890.920  0.375973  0.353840  0.270186   \n2     2014  14294.259  18719.988  19890.920  0.375973  0.353840  0.270186   \n3     2014  14294.259  18719.988  19890.920  0.375973  0.353840  0.270186   \n4     2014  14294.259  18719.988  19890.920  0.375973  0.353840  0.270186   \n...    ...        ...        ...        ...       ...       ...       ...   \n2009  2022  18463.209  21258.113  27638.373  0.410310  0.315591  0.274099   \n2010  2022  18463.209  21258.113  27638.373  0.410310  0.315591  0.274099   \n2011  2022  18463.209  21258.113  27638.373  0.410310  0.315591  0.274099   \n2012  2022  18463.209  21258.113  27638.373  0.410310  0.315591  0.274099   \n2013  2022  18463.209  21258.113  27638.373  0.410310  0.315591  0.274099   \n\n      V4_close   V4_open  \n0     1.505912  1.505912  \n1     1.502879  1.502879  \n2     1.579884  1.579884  \n3     1.411903  1.411903  \n4     1.567795  1.567795  \n...        ...       ...  \n2009  5.984375  6.012021  \n2010  6.111067  6.002976  \n2011  6.062311  6.079511  \n2012  6.049326  6.118473  \n2013  6.338681  6.334256  \n\n[2014 rows x 16 columns]",
      "text/html": "<div>\n<style scoped>\n    .dataframe tbody tr th:only-of-type {\n        vertical-align: middle;\n    }\n\n    .dataframe tbody tr th {\n        vertical-align: top;\n    }\n\n    .dataframe thead th {\n        text-align: right;\n    }\n</style>\n<table border=\"1\" class=\"dataframe\">\n  <thead>\n    <tr style=\"text-align: right;\">\n      <th></th>\n      <th>date</th>\n      <th>close_HU</th>\n      <th>open_HU</th>\n      <th>close_SK</th>\n      <th>open_SK</th>\n      <th>close_CZ</th>\n      <th>open_CZ</th>\n      <th>year</th>\n      <th>GDP_HU</th>\n      <th>GDP_SK</th>\n      <th>GDP_CZ</th>\n      <th>weg_CZ</th>\n      <th>weg_SK</th>\n      <th>weg_HU</th>\n      <th>V4_close</th>\n      <th>V4_open</th>\n    </tr>\n  </thead>\n  <tbody>\n    <tr>\n      <th>0</th>\n      <td>2014-01-02</td>\n      <td>4.12</td>\n      <td>4.12</td>\n      <td>0.907</td>\n      <td>0.907</td>\n      <td>0.191</td>\n      <td>0.191</td>\n      <td>2014</td>\n      <td>14294.259</td>\n      <td>18719.988</td>\n      <td>19890.920</td>\n      <td>0.375973</td>\n      <td>0.353840</td>\n      <td>0.270186</td>\n      <td>1.505912</td>\n      <td>1.505912</td>\n    </tr>\n    <tr>\n      <th>1</th>\n      <td>2014-01-03</td>\n      <td>4.11</td>\n      <td>4.11</td>\n      <td>0.905</td>\n      <td>0.905</td>\n      <td>0.192</td>\n      <td>0.192</td>\n      <td>2014</td>\n      <td>14294.259</td>\n      <td>18719.988</td>\n      <td>19890.920</td>\n      <td>0.375973</td>\n      <td>0.353840</td>\n      <td>0.270186</td>\n      <td>1.502879</td>\n      <td>1.502879</td>\n    </tr>\n    <tr>\n      <th>2</th>\n      <td>2014-01-07</td>\n      <td>4.04</td>\n      <td>4.04</td>\n      <td>0.869</td>\n      <td>0.869</td>\n      <td>0.481</td>\n      <td>0.481</td>\n      <td>2014</td>\n      <td>14294.259</td>\n      <td>18719.988</td>\n      <td>19890.920</td>\n      <td>0.375973</td>\n      <td>0.353840</td>\n      <td>0.270186</td>\n      <td>1.579884</td>\n      <td>1.579884</td>\n    </tr>\n    <tr>\n      <th>3</th>\n      <td>2014-01-08</td>\n      <td>4.01</td>\n      <td>4.01</td>\n      <td>0.771</td>\n      <td>0.771</td>\n      <td>0.148</td>\n      <td>0.148</td>\n      <td>2014</td>\n      <td>14294.259</td>\n      <td>18719.988</td>\n      <td>19890.920</td>\n      <td>0.375973</td>\n      <td>0.353840</td>\n      <td>0.270186</td>\n      <td>1.411903</td>\n      <td>1.411903</td>\n    </tr>\n    <tr>\n      <th>4</th>\n      <td>2014-01-09</td>\n      <td>3.94</td>\n      <td>3.94</td>\n      <td>0.755</td>\n      <td>0.755</td>\n      <td>0.628</td>\n      <td>0.628</td>\n      <td>2014</td>\n      <td>14294.259</td>\n      <td>18719.988</td>\n      <td>19890.920</td>\n      <td>0.375973</td>\n      <td>0.353840</td>\n      <td>0.270186</td>\n      <td>1.567795</td>\n      <td>1.567795</td>\n    </tr>\n    <tr>\n      <th>...</th>\n      <td>...</td>\n      <td>...</td>\n      <td>...</td>\n      <td>...</td>\n      <td>...</td>\n      <td>...</td>\n      <td>...</td>\n      <td>...</td>\n      <td>...</td>\n      <td>...</td>\n      <td>...</td>\n      <td>...</td>\n      <td>...</td>\n      <td>...</td>\n      <td>...</td>\n      <td>...</td>\n    </tr>\n    <tr>\n      <th>2009</th>\n      <td>2022-12-21</td>\n      <td>10.04</td>\n      <td>10.04</td>\n      <td>2.937</td>\n      <td>3.035</td>\n      <td>5.619</td>\n      <td>5.611</td>\n      <td>2022</td>\n      <td>18463.209</td>\n      <td>21258.113</td>\n      <td>27638.373</td>\n      <td>0.410310</td>\n      <td>0.315591</td>\n      <td>0.274099</td>\n      <td>5.984375</td>\n      <td>6.012021</td>\n    </tr>\n    <tr>\n      <th>2010</th>\n      <td>2022-12-23</td>\n      <td>10.08</td>\n      <td>10.08</td>\n      <td>3.305</td>\n      <td>2.982</td>\n      <td>5.618</td>\n      <td>5.603</td>\n      <td>2022</td>\n      <td>18463.209</td>\n      <td>21258.113</td>\n      <td>27638.373</td>\n      <td>0.410310</td>\n      <td>0.315591</td>\n      <td>0.274099</td>\n      <td>6.111067</td>\n      <td>6.002976</td>\n    </tr>\n    <tr>\n      <th>2011</th>\n      <td>2022-12-27</td>\n      <td>10.14</td>\n      <td>10.14</td>\n      <td>3.127</td>\n      <td>3.162</td>\n      <td>5.596</td>\n      <td>5.611</td>\n      <td>2022</td>\n      <td>18463.209</td>\n      <td>21258.113</td>\n      <td>27638.373</td>\n      <td>0.410310</td>\n      <td>0.315591</td>\n      <td>0.274099</td>\n      <td>6.062311</td>\n      <td>6.079511</td>\n    </tr>\n    <tr>\n      <th>2012</th>\n      <td>2022-12-28</td>\n      <td>10.10</td>\n      <td>10.10</td>\n      <td>3.131</td>\n      <td>3.341</td>\n      <td>5.588</td>\n      <td>5.595</td>\n      <td>2022</td>\n      <td>18463.209</td>\n      <td>21258.113</td>\n      <td>27638.373</td>\n      <td>0.410310</td>\n      <td>0.315591</td>\n      <td>0.274099</td>\n      <td>6.049326</td>\n      <td>6.118473</td>\n    </tr>\n    <tr>\n      <th>2013</th>\n      <td>2022-12-29</td>\n      <td>10.95</td>\n      <td>10.95</td>\n      <td>3.112</td>\n      <td>3.306</td>\n      <td>5.740</td>\n      <td>5.580</td>\n      <td>2022</td>\n      <td>18463.209</td>\n      <td>21258.113</td>\n      <td>27638.373</td>\n      <td>0.410310</td>\n      <td>0.315591</td>\n      <td>0.274099</td>\n      <td>6.338681</td>\n      <td>6.334256</td>\n    </tr>\n  </tbody>\n</table>\n<p>2014 rows × 16 columns</p>\n</div>"
     },
     "execution_count": 12,
     "metadata": {},
     "output_type": "execute_result"
    }
   ],
   "source": [
    "index_merged"
   ],
   "metadata": {
    "collapsed": false
   }
  },
  {
   "cell_type": "code",
   "execution_count": 24,
   "outputs": [],
   "source": [
    "index_final = index_merged[['date', 'V4_close']].copy()"
   ],
   "metadata": {
    "collapsed": false
   }
  },
  {
   "cell_type": "code",
   "execution_count": 36,
   "outputs": [],
   "source": [
    "index_final['date'] = pd.to_datetime(index_final['date'])\n",
    "index_final['V4_change']=(index_merged['V4_close'].diff())/index_merged['V4_close']"
   ],
   "metadata": {
    "collapsed": false
   }
  },
  {
   "cell_type": "code",
   "execution_count": 37,
   "outputs": [
    {
     "data": {
      "text/plain": "           date  V4_close  V4_change\n0    2014-01-02  1.505912        NaN\n1    2014-01-03  1.502879  -0.002018\n2    2014-01-07  1.579884   0.048741\n3    2014-01-08  1.411903  -0.118975\n4    2014-01-09  1.567795   0.099434\n...         ...       ...        ...\n2009 2022-12-21  5.984375   0.005841\n2010 2022-12-23  6.111067   0.020731\n2011 2022-12-27  6.062311  -0.008042\n2012 2022-12-28  6.049326  -0.002146\n2013 2022-12-29  6.338681   0.045649\n\n[2014 rows x 3 columns]",
      "text/html": "<div>\n<style scoped>\n    .dataframe tbody tr th:only-of-type {\n        vertical-align: middle;\n    }\n\n    .dataframe tbody tr th {\n        vertical-align: top;\n    }\n\n    .dataframe thead th {\n        text-align: right;\n    }\n</style>\n<table border=\"1\" class=\"dataframe\">\n  <thead>\n    <tr style=\"text-align: right;\">\n      <th></th>\n      <th>date</th>\n      <th>V4_close</th>\n      <th>V4_change</th>\n    </tr>\n  </thead>\n  <tbody>\n    <tr>\n      <th>0</th>\n      <td>2014-01-02</td>\n      <td>1.505912</td>\n      <td>NaN</td>\n    </tr>\n    <tr>\n      <th>1</th>\n      <td>2014-01-03</td>\n      <td>1.502879</td>\n      <td>-0.002018</td>\n    </tr>\n    <tr>\n      <th>2</th>\n      <td>2014-01-07</td>\n      <td>1.579884</td>\n      <td>0.048741</td>\n    </tr>\n    <tr>\n      <th>3</th>\n      <td>2014-01-08</td>\n      <td>1.411903</td>\n      <td>-0.118975</td>\n    </tr>\n    <tr>\n      <th>4</th>\n      <td>2014-01-09</td>\n      <td>1.567795</td>\n      <td>0.099434</td>\n    </tr>\n    <tr>\n      <th>...</th>\n      <td>...</td>\n      <td>...</td>\n      <td>...</td>\n    </tr>\n    <tr>\n      <th>2009</th>\n      <td>2022-12-21</td>\n      <td>5.984375</td>\n      <td>0.005841</td>\n    </tr>\n    <tr>\n      <th>2010</th>\n      <td>2022-12-23</td>\n      <td>6.111067</td>\n      <td>0.020731</td>\n    </tr>\n    <tr>\n      <th>2011</th>\n      <td>2022-12-27</td>\n      <td>6.062311</td>\n      <td>-0.008042</td>\n    </tr>\n    <tr>\n      <th>2012</th>\n      <td>2022-12-28</td>\n      <td>6.049326</td>\n      <td>-0.002146</td>\n    </tr>\n    <tr>\n      <th>2013</th>\n      <td>2022-12-29</td>\n      <td>6.338681</td>\n      <td>0.045649</td>\n    </tr>\n  </tbody>\n</table>\n<p>2014 rows × 3 columns</p>\n</div>"
     },
     "execution_count": 37,
     "metadata": {},
     "output_type": "execute_result"
    }
   ],
   "source": [
    "index_final"
   ],
   "metadata": {
    "collapsed": false
   }
  },
  {
   "cell_type": "code",
   "execution_count": 28,
   "outputs": [],
   "source": [
    "PL2Y = pd.read_csv('data/PL2Y.csv')"
   ],
   "metadata": {
    "collapsed": false
   }
  },
  {
   "cell_type": "code",
   "execution_count": 30,
   "outputs": [],
   "source": [
    "my_times = PL2Y['Date'].values\n",
    "my_time_cor = []\n",
    "for my_time in my_times:\n",
    "    dt_obj = datetime.strptime(my_time,'%m/%d/%Y')\n",
    "    my_time_cor.append(dt_obj.strftime('%Y-%m-%d'))\n",
    "df = pd.DataFrame({'col':my_time_cor})\n",
    "PL2Y['Date'] = df['col']"
   ],
   "metadata": {
    "collapsed": false
   }
  },
  {
   "cell_type": "code",
   "execution_count": 33,
   "outputs": [],
   "source": [
    "PL2Y = PL2Y.sort_values(by='Date')"
   ],
   "metadata": {
    "collapsed": false
   }
  },
  {
   "cell_type": "code",
   "execution_count": 41,
   "outputs": [],
   "source": [
    "PL2Y = PL2Y[['Date', 'Price']].copy()\n",
    "PL2Y = PL2Y.rename(columns={'Price':'PL2Y_close','Date':'date'})"
   ],
   "metadata": {
    "collapsed": false
   }
  },
  {
   "cell_type": "code",
   "execution_count": 42,
   "outputs": [],
   "source": [
    "PL2Y['PL2Y_change'] = (PL2Y['PL2Y_close'].diff())/PL2Y['PL2Y_close']"
   ],
   "metadata": {
    "collapsed": false
   }
  },
  {
   "cell_type": "code",
   "execution_count": 43,
   "outputs": [
    {
     "data": {
      "text/plain": "            date  PL2Y_close  PL2Y_change\n2850  2014-01-02       3.070          NaN\n2849  2014-01-03       3.058    -0.003924\n2848  2014-01-04       3.058     0.000000\n2847  2014-01-05       3.058     0.000000\n2846  2014-01-06       3.048    -0.003281\n...          ...         ...          ...\n4     2023-07-26       5.457     0.004398\n3     2023-07-27       5.458     0.000183\n2     2023-07-28       5.511     0.009617\n1     2023-07-31       5.336    -0.032796\n0     2023-08-01       5.353     0.003176\n\n[2851 rows x 3 columns]",
      "text/html": "<div>\n<style scoped>\n    .dataframe tbody tr th:only-of-type {\n        vertical-align: middle;\n    }\n\n    .dataframe tbody tr th {\n        vertical-align: top;\n    }\n\n    .dataframe thead th {\n        text-align: right;\n    }\n</style>\n<table border=\"1\" class=\"dataframe\">\n  <thead>\n    <tr style=\"text-align: right;\">\n      <th></th>\n      <th>date</th>\n      <th>PL2Y_close</th>\n      <th>PL2Y_change</th>\n    </tr>\n  </thead>\n  <tbody>\n    <tr>\n      <th>2850</th>\n      <td>2014-01-02</td>\n      <td>3.070</td>\n      <td>NaN</td>\n    </tr>\n    <tr>\n      <th>2849</th>\n      <td>2014-01-03</td>\n      <td>3.058</td>\n      <td>-0.003924</td>\n    </tr>\n    <tr>\n      <th>2848</th>\n      <td>2014-01-04</td>\n      <td>3.058</td>\n      <td>0.000000</td>\n    </tr>\n    <tr>\n      <th>2847</th>\n      <td>2014-01-05</td>\n      <td>3.058</td>\n      <td>0.000000</td>\n    </tr>\n    <tr>\n      <th>2846</th>\n      <td>2014-01-06</td>\n      <td>3.048</td>\n      <td>-0.003281</td>\n    </tr>\n    <tr>\n      <th>...</th>\n      <td>...</td>\n      <td>...</td>\n      <td>...</td>\n    </tr>\n    <tr>\n      <th>4</th>\n      <td>2023-07-26</td>\n      <td>5.457</td>\n      <td>0.004398</td>\n    </tr>\n    <tr>\n      <th>3</th>\n      <td>2023-07-27</td>\n      <td>5.458</td>\n      <td>0.000183</td>\n    </tr>\n    <tr>\n      <th>2</th>\n      <td>2023-07-28</td>\n      <td>5.511</td>\n      <td>0.009617</td>\n    </tr>\n    <tr>\n      <th>1</th>\n      <td>2023-07-31</td>\n      <td>5.336</td>\n      <td>-0.032796</td>\n    </tr>\n    <tr>\n      <th>0</th>\n      <td>2023-08-01</td>\n      <td>5.353</td>\n      <td>0.003176</td>\n    </tr>\n  </tbody>\n</table>\n<p>2851 rows × 3 columns</p>\n</div>"
     },
     "execution_count": 43,
     "metadata": {},
     "output_type": "execute_result"
    }
   ],
   "source": [
    "PL2Y"
   ],
   "metadata": {
    "collapsed": false
   }
  },
  {
   "cell_type": "code",
   "execution_count": 46,
   "outputs": [],
   "source": [
    "PL2Y.to_csv('data/DD/PL2Y_workable.csv')\n",
    "index_final.to_csv('data/DD/V4_workable.csv')"
   ],
   "metadata": {
    "collapsed": false
   }
  },
  {
   "cell_type": "code",
   "execution_count": null,
   "outputs": [],
   "source": [],
   "metadata": {
    "collapsed": false
   }
  }
 ],
 "metadata": {
  "kernelspec": {
   "display_name": "Python 3",
   "language": "python",
   "name": "python3"
  },
  "language_info": {
   "codemirror_mode": {
    "name": "ipython",
    "version": 2
   },
   "file_extension": ".py",
   "mimetype": "text/x-python",
   "name": "python",
   "nbconvert_exporter": "python",
   "pygments_lexer": "ipython2",
   "version": "2.7.6"
  }
 },
 "nbformat": 4,
 "nbformat_minor": 0
}
