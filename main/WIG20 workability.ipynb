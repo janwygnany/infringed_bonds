{
 "cells": [
  {
   "cell_type": "code",
   "execution_count": 35,
   "metadata": {
    "collapsed": true
   },
   "outputs": [],
   "source": [
    "import datetime\n",
    "import pandas as pd"
   ]
  },
  {
   "cell_type": "code",
   "execution_count": 32,
   "outputs": [],
   "source": [
    "data = pd.read_csv(\"data/WIGBanks_unworkable.csv\")\n",
    "dates = data['date']"
   ],
   "metadata": {
    "collapsed": false
   }
  },
  {
   "cell_type": "code",
   "execution_count": 33,
   "outputs": [],
   "source": [
    "def get_day_of_week(date_string):\n",
    "    try:\n",
    "        date = datetime.datetime.strptime(date_string, \"%m/%d/%Y\")\n",
    "        day_of_week = date.strftime(\"%A\")\n",
    "        return day_of_week\n",
    "    except ValueError:\n",
    "        return \"Invalid date format. Please provide a date in the format MM/DD/YYYY.\""
   ],
   "metadata": {
    "collapsed": false
   }
  },
  {
   "cell_type": "code",
   "execution_count": 36,
   "outputs": [
    {
     "data": {
      "text/plain": "             price\nday_of_week       \nFriday         469\nMonday         469\nSunday           1\nThursday       473\nTuesday        481\nWednesday      481",
      "text/html": "<div>\n<style scoped>\n    .dataframe tbody tr th:only-of-type {\n        vertical-align: middle;\n    }\n\n    .dataframe tbody tr th {\n        vertical-align: top;\n    }\n\n    .dataframe thead th {\n        text-align: right;\n    }\n</style>\n<table border=\"1\" class=\"dataframe\">\n  <thead>\n    <tr style=\"text-align: right;\">\n      <th></th>\n      <th>price</th>\n    </tr>\n    <tr>\n      <th>day_of_week</th>\n      <th></th>\n    </tr>\n  </thead>\n  <tbody>\n    <tr>\n      <th>Friday</th>\n      <td>469</td>\n    </tr>\n    <tr>\n      <th>Monday</th>\n      <td>469</td>\n    </tr>\n    <tr>\n      <th>Sunday</th>\n      <td>1</td>\n    </tr>\n    <tr>\n      <th>Thursday</th>\n      <td>473</td>\n    </tr>\n    <tr>\n      <th>Tuesday</th>\n      <td>481</td>\n    </tr>\n    <tr>\n      <th>Wednesday</th>\n      <td>481</td>\n    </tr>\n  </tbody>\n</table>\n</div>"
     },
     "execution_count": 36,
     "metadata": {},
     "output_type": "execute_result"
    }
   ],
   "source": [
    "data['day_of_week'] = data['date'].apply(get_day_of_week)\n",
    "pivot_weekday_wig = data.groupby(['day_of_week']).agg({'price':'count'})\n",
    "pivot_weekday_wig"
   ],
   "metadata": {
    "collapsed": false
   }
  },
  {
   "cell_type": "code",
   "execution_count": 37,
   "outputs": [],
   "source": [
    "from datetime import datetime\n",
    "my_times = data['date'].values\n",
    "my_time_cor = []\n",
    "for my_time in my_times:\n",
    "    dt_obj = datetime.strptime(my_time,'%m/%d/%Y')\n",
    "    my_time_cor.append(dt_obj.strftime('%Y-%m-%d'))\n",
    "df = pd.DataFrame({'col':my_time_cor})\n",
    "data['date'] = df['col']"
   ],
   "metadata": {
    "collapsed": false
   }
  },
  {
   "cell_type": "code",
   "execution_count": 38,
   "outputs": [],
   "source": [
    "data = data.replace(',','', regex=True)"
   ],
   "metadata": {
    "collapsed": false
   }
  },
  {
   "cell_type": "code",
   "execution_count": 39,
   "outputs": [],
   "source": [
    "data.to_csv(\"data/WIGBanks_workable.csv\")"
   ],
   "metadata": {
    "collapsed": false
   }
  },
  {
   "cell_type": "code",
   "execution_count": null,
   "outputs": [],
   "source": [],
   "metadata": {
    "collapsed": false,
    "is_executing": true
   }
  },
  {
   "cell_type": "code",
   "execution_count": null,
   "outputs": [],
   "source": [],
   "metadata": {
    "collapsed": false
   }
  }
 ],
 "metadata": {
  "kernelspec": {
   "display_name": "Python 3",
   "language": "python",
   "name": "python3"
  },
  "language_info": {
   "codemirror_mode": {
    "name": "ipython",
    "version": 2
   },
   "file_extension": ".py",
   "mimetype": "text/x-python",
   "name": "python",
   "nbconvert_exporter": "python",
   "pygments_lexer": "ipython2",
   "version": "2.7.6"
  }
 },
 "nbformat": 4,
 "nbformat_minor": 0
}
