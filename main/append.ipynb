{
 "cells": [
  {
   "cell_type": "code",
   "execution_count": 1,
   "metadata": {
    "collapsed": true
   },
   "outputs": [],
   "source": [
    "import pandas as pd\n",
    "import glob\n",
    "from datetime import datetime"
   ]
  },
  {
   "cell_type": "code",
   "execution_count": 10,
   "outputs": [],
   "source": [
    "path = r'data/' # use your path\n",
    "all_files = glob.glob(path + \"/20**.csv\")\n",
    "\n",
    "li = []\n",
    "\n",
    "for filename in all_files:\n",
    "    df = pd.read_csv(filename, index_col=None, header=0)\n",
    "    li.append(df)\n",
    "\n",
    "bonds = pd.concat(li, axis=0)\n",
    "bonds.to_csv(\"data/bonds_complete.csv\")"
   ],
   "metadata": {
    "collapsed": false
   }
  },
  {
   "cell_type": "code",
   "execution_count": 11,
   "outputs": [
    {
     "data": {
      "text/plain": "     Unnamed: 0       dates  opening_values  closing_values\n0             1  2020-01-02         1910.79         1912.16\n1             2  2020-01-03         1914.52         1914.30\n2             4  2020-01-07         1913.74         1908.15\n3             5  2020-01-08         1907.94         1905.50\n4             6  2020-01-09         1903.60         1902.95\n..          ...         ...             ...             ...\n245         253  2017-12-21         1752.85         1754.36\n246         254  2017-12-22         1754.64         1756.36\n247         257  2017-12-27         1757.89         1757.78\n248         258  2017-12-28         1758.12         1757.36\n249         259  2017-12-29         1757.55         1757.58\n\n[2364 rows x 4 columns]",
      "text/html": "<div>\n<style scoped>\n    .dataframe tbody tr th:only-of-type {\n        vertical-align: middle;\n    }\n\n    .dataframe tbody tr th {\n        vertical-align: top;\n    }\n\n    .dataframe thead th {\n        text-align: right;\n    }\n</style>\n<table border=\"1\" class=\"dataframe\">\n  <thead>\n    <tr style=\"text-align: right;\">\n      <th></th>\n      <th>Unnamed: 0</th>\n      <th>dates</th>\n      <th>opening_values</th>\n      <th>closing_values</th>\n    </tr>\n  </thead>\n  <tbody>\n    <tr>\n      <th>0</th>\n      <td>1</td>\n      <td>2020-01-02</td>\n      <td>1910.79</td>\n      <td>1912.16</td>\n    </tr>\n    <tr>\n      <th>1</th>\n      <td>2</td>\n      <td>2020-01-03</td>\n      <td>1914.52</td>\n      <td>1914.30</td>\n    </tr>\n    <tr>\n      <th>2</th>\n      <td>4</td>\n      <td>2020-01-07</td>\n      <td>1913.74</td>\n      <td>1908.15</td>\n    </tr>\n    <tr>\n      <th>3</th>\n      <td>5</td>\n      <td>2020-01-08</td>\n      <td>1907.94</td>\n      <td>1905.50</td>\n    </tr>\n    <tr>\n      <th>4</th>\n      <td>6</td>\n      <td>2020-01-09</td>\n      <td>1903.60</td>\n      <td>1902.95</td>\n    </tr>\n    <tr>\n      <th>...</th>\n      <td>...</td>\n      <td>...</td>\n      <td>...</td>\n      <td>...</td>\n    </tr>\n    <tr>\n      <th>245</th>\n      <td>253</td>\n      <td>2017-12-21</td>\n      <td>1752.85</td>\n      <td>1754.36</td>\n    </tr>\n    <tr>\n      <th>246</th>\n      <td>254</td>\n      <td>2017-12-22</td>\n      <td>1754.64</td>\n      <td>1756.36</td>\n    </tr>\n    <tr>\n      <th>247</th>\n      <td>257</td>\n      <td>2017-12-27</td>\n      <td>1757.89</td>\n      <td>1757.78</td>\n    </tr>\n    <tr>\n      <th>248</th>\n      <td>258</td>\n      <td>2017-12-28</td>\n      <td>1758.12</td>\n      <td>1757.36</td>\n    </tr>\n    <tr>\n      <th>249</th>\n      <td>259</td>\n      <td>2017-12-29</td>\n      <td>1757.55</td>\n      <td>1757.58</td>\n    </tr>\n  </tbody>\n</table>\n<p>2364 rows × 4 columns</p>\n</div>"
     },
     "execution_count": 11,
     "metadata": {},
     "output_type": "execute_result"
    }
   ],
   "source": [
    "bonds"
   ],
   "metadata": {
    "collapsed": false
   }
  },
  {
   "cell_type": "code",
   "execution_count": 12,
   "outputs": [],
   "source": [
    "infringement = pd.read_csv(\"data/Infringement_1.csv\")\n",
    "rates = pd.read_csv(\"data/rates.csv\")\n",
    "bonds = pd.read_csv(\"data/bonds_complete.csv\")"
   ],
   "metadata": {
    "collapsed": false
   }
  },
  {
   "cell_type": "code",
   "execution_count": 13,
   "outputs": [],
   "source": [
    "my_times = infringement['Date'].values\n",
    "my_time_cor = []\n",
    "for my_time in my_times:\n",
    "    dt_obj = datetime.strptime(my_time,'%m/%d/%Y')\n",
    "    my_time_cor.append(dt_obj.strftime('%Y-%m-%d'))\n",
    "df = pd.DataFrame({'col':my_time_cor})\n",
    "infringement['Date'] = df['col']"
   ],
   "metadata": {
    "collapsed": false
   }
  },
  {
   "cell_type": "code",
   "execution_count": 14,
   "outputs": [],
   "source": [
    "my_times = rates['date'].values\n",
    "my_time_cor = []\n",
    "for my_time in my_times:\n",
    "    dt_obj = datetime.strptime(my_time,'%m/%d/%Y')\n",
    "    my_time_cor.append(dt_obj.strftime('%Y-%m-%d'))\n",
    "df = pd.DataFrame({'col':my_time_cor})\n",
    "rates['date'] = df['col']"
   ],
   "metadata": {
    "collapsed": false
   }
  },
  {
   "cell_type": "code",
   "execution_count": 15,
   "outputs": [],
   "source": [
    "infringement.to_csv(\"data/Infringement_2.csv\")\n",
    "rates.to_csv(\"data/rates_2.csv\")"
   ],
   "metadata": {
    "collapsed": false
   }
  },
  {
   "cell_type": "code",
   "execution_count": null,
   "outputs": [],
   "source": [],
   "metadata": {
    "collapsed": false
   }
  }
 ],
 "metadata": {
  "kernelspec": {
   "display_name": "Python 3",
   "language": "python",
   "name": "python3"
  },
  "language_info": {
   "codemirror_mode": {
    "name": "ipython",
    "version": 2
   },
   "file_extension": ".py",
   "mimetype": "text/x-python",
   "name": "python",
   "nbconvert_exporter": "python",
   "pygments_lexer": "ipython2",
   "version": "2.7.6"
  }
 },
 "nbformat": 4,
 "nbformat_minor": 0
}
