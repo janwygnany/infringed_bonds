{
 "cells": [
  {
   "cell_type": "code",
   "execution_count": 30,
   "metadata": {
    "collapsed": true
   },
   "outputs": [],
   "source": [
    "import pandas as pd\n",
    "import glob\n",
    "from datetime import datetime"
   ]
  },
  {
   "cell_type": "code",
   "execution_count": 33,
   "outputs": [],
   "source": [
    "path = r'data/' # use your path\n",
    "all_files = glob.glob(path + \"/20**.csv\")\n",
    "\n",
    "li = []\n",
    "\n",
    "for filename in all_files:\n",
    "    df = pd.read_csv(filename, index_col=None, header=0)\n",
    "    li.append(df)\n",
    "\n",
    "bonds = pd.concat(li, axis=0, ignore_index=True)\n",
    "bonds.to_csv(\"data/bonds_complete.csv\")"
   ],
   "metadata": {
    "collapsed": false
   }
  },
  {
   "cell_type": "code",
   "execution_count": 34,
   "outputs": [],
   "source": [
    "infringement = pd.read_csv(\"data/Infringement_1.csv\")\n",
    "rates = pd.read_csv(\"data/rates.csv\")\n",
    "bonds = pd.read_csv(\"data/bonds_complete.csv\")"
   ],
   "metadata": {
    "collapsed": false
   }
  },
  {
   "cell_type": "code",
   "execution_count": 28,
   "outputs": [],
   "source": [
    "my_times = infringement['Date'].values\n",
    "my_time_cor = []\n",
    "for my_time in my_times:\n",
    "    dt_obj = datetime.strptime(my_time,'%m/%d/%Y')\n",
    "    my_time_cor.append(dt_obj.strftime('%Y-%m-%d'))\n",
    "df = pd.DataFrame({'col':my_time_cor})\n",
    "infringement['Date'] = df['col']"
   ],
   "metadata": {
    "collapsed": false
   }
  },
  {
   "cell_type": "code",
   "execution_count": 32,
   "outputs": [
    {
     "data": {
      "text/plain": "      Unnamed: 0       dates  opening_values  closing_values\n0              1  2020-01-02         1910.79         1912.16\n1              2  2020-01-03         1914.52         1914.30\n2              4  2020-01-07         1913.74         1908.15\n3              5  2020-01-08         1907.94         1905.50\n4              6  2020-01-09         1903.60         1902.95\n...          ...         ...             ...             ...\n2611         253  2017-12-21         1752.85         1754.36\n2612         254  2017-12-22         1754.64         1756.36\n2613         257  2017-12-27         1757.89         1757.78\n2614         258  2017-12-28         1758.12         1757.36\n2615         259  2017-12-29         1757.55         1757.58\n\n[2616 rows x 4 columns]",
      "text/html": "<div>\n<style scoped>\n    .dataframe tbody tr th:only-of-type {\n        vertical-align: middle;\n    }\n\n    .dataframe tbody tr th {\n        vertical-align: top;\n    }\n\n    .dataframe thead th {\n        text-align: right;\n    }\n</style>\n<table border=\"1\" class=\"dataframe\">\n  <thead>\n    <tr style=\"text-align: right;\">\n      <th></th>\n      <th>Unnamed: 0</th>\n      <th>dates</th>\n      <th>opening_values</th>\n      <th>closing_values</th>\n    </tr>\n  </thead>\n  <tbody>\n    <tr>\n      <th>0</th>\n      <td>1</td>\n      <td>2020-01-02</td>\n      <td>1910.79</td>\n      <td>1912.16</td>\n    </tr>\n    <tr>\n      <th>1</th>\n      <td>2</td>\n      <td>2020-01-03</td>\n      <td>1914.52</td>\n      <td>1914.30</td>\n    </tr>\n    <tr>\n      <th>2</th>\n      <td>4</td>\n      <td>2020-01-07</td>\n      <td>1913.74</td>\n      <td>1908.15</td>\n    </tr>\n    <tr>\n      <th>3</th>\n      <td>5</td>\n      <td>2020-01-08</td>\n      <td>1907.94</td>\n      <td>1905.50</td>\n    </tr>\n    <tr>\n      <th>4</th>\n      <td>6</td>\n      <td>2020-01-09</td>\n      <td>1903.60</td>\n      <td>1902.95</td>\n    </tr>\n    <tr>\n      <th>...</th>\n      <td>...</td>\n      <td>...</td>\n      <td>...</td>\n      <td>...</td>\n    </tr>\n    <tr>\n      <th>2611</th>\n      <td>253</td>\n      <td>2017-12-21</td>\n      <td>1752.85</td>\n      <td>1754.36</td>\n    </tr>\n    <tr>\n      <th>2612</th>\n      <td>254</td>\n      <td>2017-12-22</td>\n      <td>1754.64</td>\n      <td>1756.36</td>\n    </tr>\n    <tr>\n      <th>2613</th>\n      <td>257</td>\n      <td>2017-12-27</td>\n      <td>1757.89</td>\n      <td>1757.78</td>\n    </tr>\n    <tr>\n      <th>2614</th>\n      <td>258</td>\n      <td>2017-12-28</td>\n      <td>1758.12</td>\n      <td>1757.36</td>\n    </tr>\n    <tr>\n      <th>2615</th>\n      <td>259</td>\n      <td>2017-12-29</td>\n      <td>1757.55</td>\n      <td>1757.58</td>\n    </tr>\n  </tbody>\n</table>\n<p>2616 rows × 4 columns</p>\n</div>"
     },
     "execution_count": 32,
     "metadata": {},
     "output_type": "execute_result"
    }
   ],
   "source": [],
   "metadata": {
    "collapsed": false
   }
  },
  {
   "cell_type": "code",
   "execution_count": 27,
   "outputs": [
    {
     "data": {
      "text/plain": "          Date  Infringement Dummy  Rule of Law Dummy  Budget Dummy  \\\n0   01/23/2014                   1                1.0           NaN   \n1   01/27/2014                   1                1.0           NaN   \n2   02/05/2014                   1                1.0           NaN   \n3   02/20/2014                   1                NaN           NaN   \n4   03/28/2014                   1                NaN           NaN   \n..         ...                 ...                ...           ...   \n94  11/28/2022                   1                NaN           NaN   \n95  01/26/2023                   1                1.0           NaN   \n96  02/15/2023                   1                NaN           NaN   \n97  03/22/2023                   1                1.0           NaN   \n98  06/01/2023                   1                1.0           NaN   \n\n    Financial Markets Dummy         col         col  \n0                       NaN  2014-01-23  2014-01-23  \n1                       1.0  2014-01-27  2014-01-27  \n2                       NaN  2014-02-05  2014-02-05  \n3                       NaN  2014-02-20  2014-02-20  \n4                       NaN  2014-03-28  2014-03-28  \n..                      ...         ...         ...  \n94                      NaN  2022-11-28  2022-11-28  \n95                      NaN  2023-01-26  2023-01-26  \n96                      NaN  2023-02-15  2023-02-15  \n97                      NaN  2023-03-22  2023-03-22  \n98                      NaN  2023-06-01  2023-06-01  \n\n[99 rows x 7 columns]",
      "text/html": "<div>\n<style scoped>\n    .dataframe tbody tr th:only-of-type {\n        vertical-align: middle;\n    }\n\n    .dataframe tbody tr th {\n        vertical-align: top;\n    }\n\n    .dataframe thead th {\n        text-align: right;\n    }\n</style>\n<table border=\"1\" class=\"dataframe\">\n  <thead>\n    <tr style=\"text-align: right;\">\n      <th></th>\n      <th>Date</th>\n      <th>Infringement Dummy</th>\n      <th>Rule of Law Dummy</th>\n      <th>Budget Dummy</th>\n      <th>Financial Markets Dummy</th>\n      <th>col</th>\n      <th>col</th>\n    </tr>\n  </thead>\n  <tbody>\n    <tr>\n      <th>0</th>\n      <td>01/23/2014</td>\n      <td>1</td>\n      <td>1.0</td>\n      <td>NaN</td>\n      <td>NaN</td>\n      <td>2014-01-23</td>\n      <td>2014-01-23</td>\n    </tr>\n    <tr>\n      <th>1</th>\n      <td>01/27/2014</td>\n      <td>1</td>\n      <td>1.0</td>\n      <td>NaN</td>\n      <td>1.0</td>\n      <td>2014-01-27</td>\n      <td>2014-01-27</td>\n    </tr>\n    <tr>\n      <th>2</th>\n      <td>02/05/2014</td>\n      <td>1</td>\n      <td>1.0</td>\n      <td>NaN</td>\n      <td>NaN</td>\n      <td>2014-02-05</td>\n      <td>2014-02-05</td>\n    </tr>\n    <tr>\n      <th>3</th>\n      <td>02/20/2014</td>\n      <td>1</td>\n      <td>NaN</td>\n      <td>NaN</td>\n      <td>NaN</td>\n      <td>2014-02-20</td>\n      <td>2014-02-20</td>\n    </tr>\n    <tr>\n      <th>4</th>\n      <td>03/28/2014</td>\n      <td>1</td>\n      <td>NaN</td>\n      <td>NaN</td>\n      <td>NaN</td>\n      <td>2014-03-28</td>\n      <td>2014-03-28</td>\n    </tr>\n    <tr>\n      <th>...</th>\n      <td>...</td>\n      <td>...</td>\n      <td>...</td>\n      <td>...</td>\n      <td>...</td>\n      <td>...</td>\n      <td>...</td>\n    </tr>\n    <tr>\n      <th>94</th>\n      <td>11/28/2022</td>\n      <td>1</td>\n      <td>NaN</td>\n      <td>NaN</td>\n      <td>NaN</td>\n      <td>2022-11-28</td>\n      <td>2022-11-28</td>\n    </tr>\n    <tr>\n      <th>95</th>\n      <td>01/26/2023</td>\n      <td>1</td>\n      <td>1.0</td>\n      <td>NaN</td>\n      <td>NaN</td>\n      <td>2023-01-26</td>\n      <td>2023-01-26</td>\n    </tr>\n    <tr>\n      <th>96</th>\n      <td>02/15/2023</td>\n      <td>1</td>\n      <td>NaN</td>\n      <td>NaN</td>\n      <td>NaN</td>\n      <td>2023-02-15</td>\n      <td>2023-02-15</td>\n    </tr>\n    <tr>\n      <th>97</th>\n      <td>03/22/2023</td>\n      <td>1</td>\n      <td>1.0</td>\n      <td>NaN</td>\n      <td>NaN</td>\n      <td>2023-03-22</td>\n      <td>2023-03-22</td>\n    </tr>\n    <tr>\n      <th>98</th>\n      <td>06/01/2023</td>\n      <td>1</td>\n      <td>1.0</td>\n      <td>NaN</td>\n      <td>NaN</td>\n      <td>2023-06-01</td>\n      <td>2023-06-01</td>\n    </tr>\n  </tbody>\n</table>\n<p>99 rows × 7 columns</p>\n</div>"
     },
     "execution_count": 27,
     "metadata": {},
     "output_type": "execute_result"
    }
   ],
   "source": [],
   "metadata": {
    "collapsed": false
   }
  },
  {
   "cell_type": "code",
   "execution_count": null,
   "outputs": [],
   "source": [
    "merged_1 = bonds.merge(infringement, on=[\"Date\"], how=\"left\")"
   ],
   "metadata": {
    "collapsed": false
   }
  }
 ],
 "metadata": {
  "kernelspec": {
   "display_name": "Python 3",
   "language": "python",
   "name": "python3"
  },
  "language_info": {
   "codemirror_mode": {
    "name": "ipython",
    "version": 2
   },
   "file_extension": ".py",
   "mimetype": "text/x-python",
   "name": "python",
   "nbconvert_exporter": "python",
   "pygments_lexer": "ipython2",
   "version": "2.7.6"
  }
 },
 "nbformat": 4,
 "nbformat_minor": 0
}
