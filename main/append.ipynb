{
 "cells": [
  {
   "cell_type": "code",
   "execution_count": 2,
   "metadata": {
    "collapsed": true
   },
   "outputs": [],
   "source": [
    "import pandas as pd\n",
    "import glob\n",
    "from datetime import datetime"
   ]
  },
  {
   "cell_type": "code",
   "execution_count": 3,
   "outputs": [],
   "source": [
    "path = r'data/' # use your path\n",
    "all_files = glob.glob(path + \"/20**.csv\")\n",
    "\n",
    "li = []\n",
    "\n",
    "for filename in all_files:\n",
    "    df = pd.read_csv(filename, index_col=None, header=0)\n",
    "    li.append(df)\n",
    "\n",
    "bonds = pd.concat(li, axis=0, ignore_index=True)\n",
    "bonds.to_csv(\"data/bonds_complete.csv\")"
   ],
   "metadata": {
    "collapsed": false
   }
  },
  {
   "cell_type": "code",
   "execution_count": 4,
   "outputs": [],
   "source": [
    "infringement = pd.read_csv(\"data/Infringement_1.csv\")\n",
    "rates = pd.read_csv(\"data/rates.csv\")\n",
    "bonds = pd.read_csv(\"data/bonds_complete.csv\")"
   ],
   "metadata": {
    "collapsed": false
   }
  },
  {
   "cell_type": "code",
   "execution_count": 5,
   "outputs": [],
   "source": [
    "my_times = infringement['Date'].values\n",
    "my_time_cor = []\n",
    "for my_time in my_times:\n",
    "    dt_obj = datetime.strptime(my_time,'%m/%d/%Y')\n",
    "    my_time_cor.append(dt_obj.strftime('%Y-%m-%d'))\n",
    "df = pd.DataFrame({'col':my_time_cor})\n",
    "infringement['Date'] = df['col']"
   ],
   "metadata": {
    "collapsed": false
   }
  },
  {
   "cell_type": "code",
   "execution_count": 6,
   "outputs": [],
   "source": [
    "my_times = rates['date'].values\n",
    "my_time_cor = []\n",
    "for my_time in my_times:\n",
    "    dt_obj = datetime.strptime(my_time,'%m/%d/%Y')\n",
    "    my_time_cor.append(dt_obj.strftime('%Y-%m-%d'))\n",
    "df = pd.DataFrame({'col':my_time_cor})\n",
    "rates['date'] = df['col']"
   ],
   "metadata": {
    "collapsed": false
   }
  },
  {
   "cell_type": "code",
   "execution_count": 7,
   "outputs": [],
   "source": [
    "infringement.to_csv(\"data/Infringement_2.csv\")\n",
    "rates.to_csv(\"data/rates_2.csv\")"
   ],
   "metadata": {
    "collapsed": false
   }
  },
  {
   "cell_type": "code",
   "execution_count": null,
   "outputs": [],
   "source": [],
   "metadata": {
    "collapsed": false
   }
  }
 ],
 "metadata": {
  "kernelspec": {
   "display_name": "Python 3",
   "language": "python",
   "name": "python3"
  },
  "language_info": {
   "codemirror_mode": {
    "name": "ipython",
    "version": 2
   },
   "file_extension": ".py",
   "mimetype": "text/x-python",
   "name": "python",
   "nbconvert_exporter": "python",
   "pygments_lexer": "ipython2",
   "version": "2.7.6"
  }
 },
 "nbformat": 4,
 "nbformat_minor": 0
}
