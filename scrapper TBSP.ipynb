{
 "cells": [
  {
   "cell_type": "code",
   "execution_count": 2,
   "metadata": {
    "collapsed": true
   },
   "outputs": [],
   "source": [
    "import numpy as np\n",
    "from datetime import datetime, timedelta\n",
    "import requests\n",
    "from bs4 import BeautifulSoup\n",
    "import pandas as pd"
   ]
  },
  {
   "cell_type": "code",
   "execution_count": 3,
   "outputs": [],
   "source": [
    "def generate_date_string(start_date, end_date):\n",
    "    date_format = \"%Y/%m/%d\"\n",
    "    dates_strings = []\n",
    "\n",
    "    start = datetime.strptime(start_date, date_format)\n",
    "    end = datetime.strptime(end_date, date_format)\n",
    "\n",
    "    current_date = start\n",
    "    while current_date <= end:\n",
    "        dates_strings.append(current_date.strftime(date_format))\n",
    "        current_date += timedelta(days=1)\n",
    "\n",
    "    return dates_strings"
   ],
   "metadata": {
    "collapsed": false
   }
  },
  {
   "cell_type": "code",
   "execution_count": 19,
   "outputs": [],
   "source": [
    "def generate_date_array(start_date, end_date):\n",
    "    date_format = \"%Y/%m/%d\"\n",
    "    start = datetime.strptime(start_date, date_format)\n",
    "    end = datetime.strptime(end_date, date_format)\n",
    "\n",
    "    # Create an empty list to store the generated dates\n",
    "    date_list = []\n",
    "\n",
    "    # Generate the dates between the start and end dates\n",
    "    current_date = start\n",
    "    while current_date <= end:\n",
    "        formatted_date = current_date.strftime(date_format).replace('/', '')\n",
    "        date_list.append(formatted_date)\n",
    "        current_date += timedelta(days=1)\n",
    "\n",
    "    # Convert the list to a NumPy array\n",
    "    date_array = np.array(date_list)\n",
    "\n",
    "    return date_array"
   ],
   "metadata": {
    "collapsed": false
   }
  },
  {
   "cell_type": "code",
   "execution_count": 20,
   "outputs": [],
   "source": [
    "def get_day_of_week(date_string):\n",
    "    try:\n",
    "        date = datetime.strptime(date_string, \"%Y/%m/%d\")\n",
    "        day_of_week = date.strftime(\"%A\")\n",
    "        return day_of_week\n",
    "    except ValueError:\n",
    "        return \"Invalid date format. Please provide a date in the format YYYY/MM/DD.\""
   ],
   "metadata": {
    "collapsed": false
   }
  },
  {
   "cell_type": "code",
   "execution_count": 36,
   "outputs": [
    {
     "data": {
      "text/plain": "array([2014, 2015, 2016, 2017, 2018, 2019, 2020, 2021, 2022])"
     },
     "execution_count": 36,
     "metadata": {},
     "output_type": "execute_result"
    }
   ],
   "source": [
    "years = np.arange(2014,2023,1)\n",
    "start_dates = []\n",
    "end_dates = []\n",
    "for year in years:\n",
    "    start_dates.append(f\"{year}/01/01\")\n",
    "    end_dates.append(f\"{year}/12/31\")"
   ],
   "metadata": {
    "collapsed": false
   }
  },
  {
   "cell_type": "code",
   "execution_count": 53,
   "outputs": [
    {
     "data": {
      "text/plain": "{2014:             0       dates      weeks\n 0    20140101  2014/01/01  Wednesday\n 1    20140102  2014/01/02   Thursday\n 2    20140103  2014/01/03     Friday\n 3    20140104  2014/01/04   Saturday\n 4    20140105  2014/01/05     Sunday\n ..        ...         ...        ...\n 360  20141227  2014/12/27   Saturday\n 361  20141228  2014/12/28     Sunday\n 362  20141229  2014/12/29     Monday\n 363  20141230  2014/12/30    Tuesday\n 364  20141231  2014/12/31  Wednesday\n \n [365 rows x 3 columns],\n 2015:             0       dates      weeks\n 0    20150101  2015/01/01   Thursday\n 1    20150102  2015/01/02     Friday\n 2    20150103  2015/01/03   Saturday\n 3    20150104  2015/01/04     Sunday\n 4    20150105  2015/01/05     Monday\n ..        ...         ...        ...\n 360  20151227  2015/12/27     Sunday\n 361  20151228  2015/12/28     Monday\n 362  20151229  2015/12/29    Tuesday\n 363  20151230  2015/12/30  Wednesday\n 364  20151231  2015/12/31   Thursday\n \n [365 rows x 3 columns],\n 2016:             0       dates      weeks\n 0    20160101  2016/01/01     Friday\n 1    20160102  2016/01/02   Saturday\n 2    20160103  2016/01/03     Sunday\n 3    20160104  2016/01/04     Monday\n 4    20160105  2016/01/05    Tuesday\n ..        ...         ...        ...\n 361  20161227  2016/12/27    Tuesday\n 362  20161228  2016/12/28  Wednesday\n 363  20161229  2016/12/29   Thursday\n 364  20161230  2016/12/30     Friday\n 365  20161231  2016/12/31   Saturday\n \n [366 rows x 3 columns],\n 2017:             0       dates      weeks\n 0    20170101  2017/01/01     Sunday\n 1    20170102  2017/01/02     Monday\n 2    20170103  2017/01/03    Tuesday\n 3    20170104  2017/01/04  Wednesday\n 4    20170105  2017/01/05   Thursday\n ..        ...         ...        ...\n 360  20171227  2017/12/27  Wednesday\n 361  20171228  2017/12/28   Thursday\n 362  20171229  2017/12/29     Friday\n 363  20171230  2017/12/30   Saturday\n 364  20171231  2017/12/31     Sunday\n \n [365 rows x 3 columns],\n 2018:             0       dates      weeks\n 0    20180101  2018/01/01     Monday\n 1    20180102  2018/01/02    Tuesday\n 2    20180103  2018/01/03  Wednesday\n 3    20180104  2018/01/04   Thursday\n 4    20180105  2018/01/05     Friday\n ..        ...         ...        ...\n 360  20181227  2018/12/27   Thursday\n 361  20181228  2018/12/28     Friday\n 362  20181229  2018/12/29   Saturday\n 363  20181230  2018/12/30     Sunday\n 364  20181231  2018/12/31     Monday\n \n [365 rows x 3 columns],\n 2019:             0       dates      weeks\n 0    20190101  2019/01/01    Tuesday\n 1    20190102  2019/01/02  Wednesday\n 2    20190103  2019/01/03   Thursday\n 3    20190104  2019/01/04     Friday\n 4    20190105  2019/01/05   Saturday\n ..        ...         ...        ...\n 360  20191227  2019/12/27     Friday\n 361  20191228  2019/12/28   Saturday\n 362  20191229  2019/12/29     Sunday\n 363  20191230  2019/12/30     Monday\n 364  20191231  2019/12/31    Tuesday\n \n [365 rows x 3 columns],\n 2020:             0       dates      weeks\n 0    20200101  2020/01/01  Wednesday\n 1    20200102  2020/01/02   Thursday\n 2    20200103  2020/01/03     Friday\n 3    20200104  2020/01/04   Saturday\n 4    20200105  2020/01/05     Sunday\n ..        ...         ...        ...\n 361  20201227  2020/12/27     Sunday\n 362  20201228  2020/12/28     Monday\n 363  20201229  2020/12/29    Tuesday\n 364  20201230  2020/12/30  Wednesday\n 365  20201231  2020/12/31   Thursday\n \n [366 rows x 3 columns],\n 2021:             0       dates      weeks\n 0    20210101  2021/01/01     Friday\n 1    20210102  2021/01/02   Saturday\n 2    20210103  2021/01/03     Sunday\n 3    20210104  2021/01/04     Monday\n 4    20210105  2021/01/05    Tuesday\n ..        ...         ...        ...\n 360  20211227  2021/12/27     Monday\n 361  20211228  2021/12/28    Tuesday\n 362  20211229  2021/12/29  Wednesday\n 363  20211230  2021/12/30   Thursday\n 364  20211231  2021/12/31     Friday\n \n [365 rows x 3 columns],\n 2022:             0       dates      weeks\n 0    20220101  2022/01/01   Saturday\n 1    20220102  2022/01/02     Sunday\n 2    20220103  2022/01/03     Monday\n 3    20220104  2022/01/04    Tuesday\n 4    20220105  2022/01/05  Wednesday\n ..        ...         ...        ...\n 360  20221227  2022/12/27    Tuesday\n 361  20221228  2022/12/28  Wednesday\n 362  20221229  2022/12/29   Thursday\n 363  20221230  2022/12/30     Friday\n 364  20221231  2022/12/31   Saturday\n \n [365 rows x 3 columns]}"
     },
     "execution_count": 53,
     "metadata": {},
     "output_type": "execute_result"
    }
   ],
   "source": [
    "d = {year: pd.DataFrame() for year in years}\n",
    "for year in years:\n",
    "    start_date = start_dates[year-2014]\n",
    "    end_date = end_dates[year-2014]\n",
    "    dates_strings = generate_date_string(start_date, end_date)\n",
    "    dates_array = generate_date_array(start_date, end_date)\n",
    "    dates_df = pd.DataFrame(dates_strings)\n",
    "    dates_df.columns = ['dates']\n",
    "    dates_df['weeks'] = dates_df['dates'].apply(get_day_of_week)\n",
    "    dates_list_df = pd.DataFrame(dates_array)\n",
    "    d[year] = pd.concat([dates_list_df,dates_df],axis=1)"
   ],
   "metadata": {
    "collapsed": false
   }
  },
  {
   "cell_type": "code",
   "execution_count": 56,
   "outputs": [],
   "source": [
    "d_weekday = {year: pd.DataFrame() for year in years}\n",
    "for year in years:\n",
    "    not_sun = d[year][\"weeks\"] != \"Sunday\"\n",
    "    not_sun_weekday = d[year][not_sun]\n",
    "    not_sat = not_sun_weekday[\"weeks\"] != \"Saturday\"\n",
    "    d_weekday[year] = not_sun_weekday[not_sat]\n",
    "    d_weekday[year].columns = ['dates', 'weeks', 'dates1']"
   ],
   "metadata": {
    "collapsed": false
   }
  },
  {
   "cell_type": "code",
   "execution_count": 61,
   "outputs": [],
   "source": [
    "year_of = int(input(\"Enter chosen year\"))"
   ],
   "metadata": {
    "collapsed": false
   }
  },
  {
   "cell_type": "code",
   "execution_count": 62,
   "outputs": [],
   "source": [
    "dates1 = d_weekday[year_of]['dates1'].values\n",
    "pages = []\n",
    "for date in dates1:\n",
    "    expression = f\"https://www.bondspot.pl/tbsp_index_archiwum?date={date}\"\n",
    "    pages.append(expression)"
   ],
   "metadata": {
    "collapsed": false
   }
  },
  {
   "cell_type": "code",
   "execution_count": 27,
   "outputs": [],
   "source": [
    "dates = []\n",
    "opening_values = []\n",
    "closing_values = []\n",
    "cells = []"
   ],
   "metadata": {
    "collapsed": false
   }
  },
  {
   "cell_type": "code",
   "execution_count": 28,
   "outputs": [],
   "source": [
    "for page in pages:\n",
    "    response = requests.get(page)\n",
    "    soup = BeautifulSoup(response.content, \"html.parser\")\n",
    "    rows = soup.find_all('tr')\n",
    "    for row in rows:\n",
    "        try:\n",
    "            cells = row.find_all('td')\n",
    "        except AttributeError:\n",
    "            continue\n",
    "    dates.append(cells[0].text.strip())\n",
    "    opening_values.append(cells[1].text.strip())\n",
    "    closing_values.append(cells[2].text.strip())"
   ],
   "metadata": {
    "collapsed": false
   }
  },
  {
   "cell_type": "code",
   "execution_count": 65,
   "outputs": [],
   "source": [
    "d_final = {year: pd.DataFrame() for year in years}\n",
    "df = pd.DataFrame(dates)\n",
    "df_2 = pd.DataFrame(opening_values)\n",
    "df_3 = pd.DataFrame(closing_values)\n",
    "d_final[year_of] = pd.concat([df, df_2, df_3], axis=1)\n",
    "d_final[year_of].columns = ['dates', 'opening_values', 'closing_values']"
   ],
   "metadata": {
    "collapsed": false
   }
  },
  {
   "cell_type": "code",
   "execution_count": null,
   "outputs": [],
   "source": [],
   "metadata": {
    "collapsed": false
   }
  }
 ],
 "metadata": {
  "kernelspec": {
   "display_name": "Python 3",
   "language": "python",
   "name": "python3"
  },
  "language_info": {
   "codemirror_mode": {
    "name": "ipython",
    "version": 2
   },
   "file_extension": ".py",
   "mimetype": "text/x-python",
   "name": "python",
   "nbconvert_exporter": "python",
   "pygments_lexer": "ipython2",
   "version": "2.7.6"
  }
 },
 "nbformat": 4,
 "nbformat_minor": 0
}
